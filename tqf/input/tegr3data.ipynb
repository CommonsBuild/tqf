{
 "cells": [
  {
   "cell_type": "code",
   "execution_count": 1,
   "id": "33d7897b-8ef0-4b4d-8ce0-4dddcb3522e5",
   "metadata": {
    "tags": []
   },
   "outputs": [],
   "source": [
    "import pandas as pd"
   ]
  },
  {
   "cell_type": "code",
   "execution_count": 4,
   "id": "b01da09e-d034-4cc4-b6c8-6b04ba044c15",
   "metadata": {
    "tags": []
   },
   "outputs": [],
   "source": [
    "df = pd.read_csv('tegr3_tec_holders.csv')"
   ]
  },
  {
   "cell_type": "code",
   "execution_count": 5,
   "id": "825f6187-9af5-4072-a136-948b147abfbe",
   "metadata": {
    "tags": []
   },
   "outputs": [
    {
     "data": {
      "text/html": [
       "<div>\n",
       "<style scoped>\n",
       "    .dataframe tbody tr th:only-of-type {\n",
       "        vertical-align: middle;\n",
       "    }\n",
       "\n",
       "    .dataframe tbody tr th {\n",
       "        vertical-align: top;\n",
       "    }\n",
       "\n",
       "    .dataframe thead th {\n",
       "        text-align: right;\n",
       "    }\n",
       "</style>\n",
       "<table border=\"1\" class=\"dataframe\">\n",
       "  <thead>\n",
       "    <tr style=\"text-align: right;\">\n",
       "      <th></th>\n",
       "      <th>address</th>\n",
       "      <th>balance</th>\n",
       "    </tr>\n",
       "  </thead>\n",
       "  <tbody>\n",
       "    <tr>\n",
       "      <th>0</th>\n",
       "      <td>0x5584e380c5ba129ccb5c1ce89c2e9d66881f4800</td>\n",
       "      <td>1.425657e+05</td>\n",
       "    </tr>\n",
       "    <tr>\n",
       "      <th>1</th>\n",
       "      <td>0x5b7575494b1e28974efe6ea71ec569b34958f72e</td>\n",
       "      <td>1.060533e+05</td>\n",
       "    </tr>\n",
       "    <tr>\n",
       "      <th>2</th>\n",
       "      <td>0x839395e20bbb182fa440d08f850e6c7a8f6f0780</td>\n",
       "      <td>7.930983e+04</td>\n",
       "    </tr>\n",
       "    <tr>\n",
       "      <th>3</th>\n",
       "      <td>0xdf290293c4a4d6ebe38fd7085d7721041f927e0a</td>\n",
       "      <td>6.933751e+04</td>\n",
       "    </tr>\n",
       "    <tr>\n",
       "      <th>4</th>\n",
       "      <td>0xf41deff41016216346270e302dc0a5dd4913dada</td>\n",
       "      <td>5.779795e+04</td>\n",
       "    </tr>\n",
       "    <tr>\n",
       "      <th>...</th>\n",
       "      <td>...</td>\n",
       "      <td>...</td>\n",
       "    </tr>\n",
       "    <tr>\n",
       "      <th>727</th>\n",
       "      <td>0x2723875bff110974e712019e4ab631dcac97910d</td>\n",
       "      <td>2.868971e-09</td>\n",
       "    </tr>\n",
       "    <tr>\n",
       "      <th>728</th>\n",
       "      <td>0x0b58857708a6f84e7ee04beaef069a7e6d1d4a0b</td>\n",
       "      <td>1.150511e-10</td>\n",
       "    </tr>\n",
       "    <tr>\n",
       "      <th>729</th>\n",
       "      <td>0x1111111254eeb25477b68fb85ed929f73a960582</td>\n",
       "      <td>1.000000e-18</td>\n",
       "    </tr>\n",
       "    <tr>\n",
       "      <th>730</th>\n",
       "      <td>0x1111111254fb6c44bac0bed2854e76f90643097d</td>\n",
       "      <td>1.000000e-18</td>\n",
       "    </tr>\n",
       "    <tr>\n",
       "      <th>731</th>\n",
       "      <td>0x8cc2284c90d05578633418f9cde104f402375a65</td>\n",
       "      <td>1.000000e-18</td>\n",
       "    </tr>\n",
       "  </tbody>\n",
       "</table>\n",
       "<p>732 rows × 2 columns</p>\n",
       "</div>"
      ],
      "text/plain": [
       "                                        address       balance\n",
       "0    0x5584e380c5ba129ccb5c1ce89c2e9d66881f4800  1.425657e+05\n",
       "1    0x5b7575494b1e28974efe6ea71ec569b34958f72e  1.060533e+05\n",
       "2    0x839395e20bbb182fa440d08f850e6c7a8f6f0780  7.930983e+04\n",
       "3    0xdf290293c4a4d6ebe38fd7085d7721041f927e0a  6.933751e+04\n",
       "4    0xf41deff41016216346270e302dc0a5dd4913dada  5.779795e+04\n",
       "..                                          ...           ...\n",
       "727  0x2723875bff110974e712019e4ab631dcac97910d  2.868971e-09\n",
       "728  0x0b58857708a6f84e7ee04beaef069a7e6d1d4a0b  1.150511e-10\n",
       "729  0x1111111254eeb25477b68fb85ed929f73a960582  1.000000e-18\n",
       "730  0x1111111254fb6c44bac0bed2854e76f90643097d  1.000000e-18\n",
       "731  0x8cc2284c90d05578633418f9cde104f402375a65  1.000000e-18\n",
       "\n",
       "[732 rows x 2 columns]"
      ]
     },
     "execution_count": 5,
     "metadata": {},
     "output_type": "execute_result"
    }
   ],
   "source": [
    "df"
   ]
  },
  {
   "cell_type": "code",
   "execution_count": 6,
   "id": "c327d4dc-03b9-428e-b6c5-325d37d36dab",
   "metadata": {
    "tags": []
   },
   "outputs": [],
   "source": [
    "df = df[df['balance'] >= 1]"
   ]
  },
  {
   "cell_type": "code",
   "execution_count": 8,
   "id": "064e09fd-1095-4da6-b3b2-eb350947ff3c",
   "metadata": {
    "tags": []
   },
   "outputs": [],
   "source": [
    "df.to_csv('tegr3_tec_holders.csv', index=False)"
   ]
  },
  {
   "cell_type": "code",
   "execution_count": 9,
   "id": "8b98742e-35c7-458e-bfac-17a4d794869a",
   "metadata": {
    "tags": []
   },
   "outputs": [
    {
     "data": {
      "text/html": [
       "<div>\n",
       "<style scoped>\n",
       "    .dataframe tbody tr th:only-of-type {\n",
       "        vertical-align: middle;\n",
       "    }\n",
       "\n",
       "    .dataframe tbody tr th {\n",
       "        vertical-align: top;\n",
       "    }\n",
       "\n",
       "    .dataframe thead th {\n",
       "        text-align: right;\n",
       "    }\n",
       "</style>\n",
       "<table border=\"1\" class=\"dataframe\">\n",
       "  <thead>\n",
       "    <tr style=\"text-align: right;\">\n",
       "      <th></th>\n",
       "      <th>address</th>\n",
       "      <th>balance</th>\n",
       "    </tr>\n",
       "  </thead>\n",
       "  <tbody>\n",
       "    <tr>\n",
       "      <th>0</th>\n",
       "      <td>0x5584e380c5ba129ccb5c1ce89c2e9d66881f4800</td>\n",
       "      <td>142565.707754</td>\n",
       "    </tr>\n",
       "    <tr>\n",
       "      <th>1</th>\n",
       "      <td>0x5b7575494b1e28974efe6ea71ec569b34958f72e</td>\n",
       "      <td>106053.271906</td>\n",
       "    </tr>\n",
       "    <tr>\n",
       "      <th>2</th>\n",
       "      <td>0x839395e20bbb182fa440d08f850e6c7a8f6f0780</td>\n",
       "      <td>79309.832505</td>\n",
       "    </tr>\n",
       "    <tr>\n",
       "      <th>3</th>\n",
       "      <td>0xdf290293c4a4d6ebe38fd7085d7721041f927e0a</td>\n",
       "      <td>69337.513233</td>\n",
       "    </tr>\n",
       "    <tr>\n",
       "      <th>4</th>\n",
       "      <td>0xf41deff41016216346270e302dc0a5dd4913dada</td>\n",
       "      <td>57797.945683</td>\n",
       "    </tr>\n",
       "    <tr>\n",
       "      <th>...</th>\n",
       "      <td>...</td>\n",
       "      <td>...</td>\n",
       "    </tr>\n",
       "    <tr>\n",
       "      <th>453</th>\n",
       "      <td>0xa9ccd6b0919e43fd7cfc990572e43c3cf6a17397</td>\n",
       "      <td>1.144189</td>\n",
       "    </tr>\n",
       "    <tr>\n",
       "      <th>454</th>\n",
       "      <td>0xe882c0cbb836c34447dc58f74c08f373a6d37cd8</td>\n",
       "      <td>1.019142</td>\n",
       "    </tr>\n",
       "    <tr>\n",
       "      <th>455</th>\n",
       "      <td>0xe89c2545e4e05a79d21351cdeeda4651ca48debc</td>\n",
       "      <td>1.011994</td>\n",
       "    </tr>\n",
       "    <tr>\n",
       "      <th>456</th>\n",
       "      <td>0x9b04a9eee500302980a117f514bc2de0fd1f683d</td>\n",
       "      <td>1.008996</td>\n",
       "    </tr>\n",
       "    <tr>\n",
       "      <th>457</th>\n",
       "      <td>0xdc8cd7cf5c9bf25aedaf9c01bf3f992354f95081</td>\n",
       "      <td>1.000713</td>\n",
       "    </tr>\n",
       "  </tbody>\n",
       "</table>\n",
       "<p>458 rows × 2 columns</p>\n",
       "</div>"
      ],
      "text/plain": [
       "                                        address        balance\n",
       "0    0x5584e380c5ba129ccb5c1ce89c2e9d66881f4800  142565.707754\n",
       "1    0x5b7575494b1e28974efe6ea71ec569b34958f72e  106053.271906\n",
       "2    0x839395e20bbb182fa440d08f850e6c7a8f6f0780   79309.832505\n",
       "3    0xdf290293c4a4d6ebe38fd7085d7721041f927e0a   69337.513233\n",
       "4    0xf41deff41016216346270e302dc0a5dd4913dada   57797.945683\n",
       "..                                          ...            ...\n",
       "453  0xa9ccd6b0919e43fd7cfc990572e43c3cf6a17397       1.144189\n",
       "454  0xe882c0cbb836c34447dc58f74c08f373a6d37cd8       1.019142\n",
       "455  0xe89c2545e4e05a79d21351cdeeda4651ca48debc       1.011994\n",
       "456  0x9b04a9eee500302980a117f514bc2de0fd1f683d       1.008996\n",
       "457  0xdc8cd7cf5c9bf25aedaf9c01bf3f992354f95081       1.000713\n",
       "\n",
       "[458 rows x 2 columns]"
      ]
     },
     "execution_count": 9,
     "metadata": {},
     "output_type": "execute_result"
    }
   ],
   "source": [
    "df"
   ]
  },
  {
   "cell_type": "code",
   "execution_count": null,
   "id": "f16ce93f-3c84-41f6-9bbe-57085dfbba5c",
   "metadata": {},
   "outputs": [],
   "source": []
  }
 ],
 "metadata": {
  "kernelspec": {
   "display_name": "Python 3 (ipykernel)",
   "language": "python",
   "name": "python3"
  },
  "language_info": {
   "codemirror_mode": {
    "name": "ipython",
    "version": 3
   },
   "file_extension": ".py",
   "mimetype": "text/x-python",
   "name": "python",
   "nbconvert_exporter": "python",
   "pygments_lexer": "ipython3",
   "version": "3.10.12"
  }
 },
 "nbformat": 4,
 "nbformat_minor": 5
}
